{
 "cells": [
  {
   "cell_type": "markdown",
   "metadata": {},
   "source": [
    "# Count Specific Genes which are Shared Interactors in Final_enriched files\n",
    "\n",
    "### From Audrey:\n",
    "\n",
    "Of the recent 1000 randomizations you did with the NEW TP_Regulators list I sent, could you go into each result and report the following:\n",
    "\n",
    "For Hog1 (YLR113W)\n",
    "— can you count how many times Hog1 is an SI in each run and how many of those submodules contains sP in the motif?  (I can’t remember how many dots, but match to sP is fine)\n",
    "\n",
    "and for Tpk2 (YPL203W)\n",
    "- can you count how many times Tpk1 was a shared interactor in each run and for how many of those submodules in year run did it match either R..s or RR.s?\n",
    "\n",
    "Please also report this for the real data from non-randomized background.  The question is this:  in the real data, some Hog1 and Tpk2 are connected to submodules that have their known recognition motif (..sP.. or R..s/RR.s for Hog1 and Tpk2, respectively).  We use that as added confidence.  I want to know in the randomizations how often these guys are SIs to submodules with the right motif in them.  Not sure it will look significantly different, but I’d like to try.\n",
    "\n",
    "Format of the output could be this:\n",
    "Trial #  … # SIs total … # times Hog1 is an SI … # times Hog1 is an SI to a submodule that contains sP … [then same for Tpk2, can be same file\n",
    "\n",
    "\n"
   ]
  },
  {
   "cell_type": "code",
   "execution_count": 2,
   "metadata": {
    "collapsed": false
   },
   "outputs": [
    {
     "name": "stdout",
     "output_type": "stream",
     "text": [
      "/home/mplace/projects/forMatt/Phospho_Network/forPaper/results_SharedInteractors\n"
     ]
    }
   ],
   "source": [
    "# load required libraries\n",
    "import glob\n",
    "import os\n",
    "import re\n",
    "\n",
    "# enter base directory\n",
    "#baseDir  = '/home/mplace/projects/forMatt/Phospho_Network/forPaper/pipeline_rewired_BG/normal_input/'\n",
    "baseDir  = '/home/mplace/projects/forMatt/Phospho_Network/forPaper/results_SharedInteractors'\n",
    "os.chdir(baseDir)\n",
    "print(os.getcwd())"
   ]
  },
  {
   "cell_type": "code",
   "execution_count": 3,
   "metadata": {
    "collapsed": false
   },
   "outputs": [],
   "source": [
    "with open('Hog1-counts.txt', 'w') as out:    \n",
    "    out.write('Trial #,# SIs Total,# times Hog1 is SI,# times Hog is sP\\n')\n",
    "\n",
    "    for file in glob.glob('Final_enriched-*.csv'):\n",
    "        hog1Count = 0\n",
    "        spCount   = 0\n",
    "        siTotal   = 0\n",
    "        trial     = re.search('\\d+', file).group(0)\n",
    "\n",
    "        with open(file, 'r') as f:\n",
    "            f.readline()   # skip header\n",
    "            for ln in f:\n",
    "                dat = ln.rstrip().split(',')\n",
    "                siTotal += 1\n",
    "                if dat[-1] == 'YLR113W':            # find hog1 in SI column\n",
    "                    hog1Count += 1\n",
    "                    if re.search('sP',dat[3]):\n",
    "                        spCount += 1\n",
    "                        #print('%s, %s, %s ' %(dat[-1], dat[3], re.search('sP',dat[3]).group(0)))\n",
    "\n",
    "        out.write('%s,%s,%s,%s\\n' %(trial, siTotal, hog1Count, spCount))\n"
   ]
  },
  {
   "cell_type": "code",
   "execution_count": 4,
   "metadata": {
    "collapsed": false
   },
   "outputs": [],
   "source": [
    "with open('Tpk2-counts.txt', 'w') as out:    \n",
    "    out.write('Trial #,# SIs Total,# times Tpk2 is SI,# times Tpk2 is RR.s or R..s\\n')\n",
    "\n",
    "    for file in glob.glob('Final_enriched-*.csv'):\n",
    "        tpk2Count = 0\n",
    "        Count   = 0\n",
    "        siTotal   = 0\n",
    "        trial     = re.search('\\d+', file).group(0)\n",
    "\n",
    "        with open(file, 'r') as f:\n",
    "            f.readline()   # skip header\n",
    "            for ln in f:\n",
    "                dat = ln.rstrip().split(',')\n",
    "                siTotal += 1\n",
    "                if dat[-1] == 'YPL203W':            # find hog1 in SI column\n",
    "                    tpk2Count += 1\n",
    "                    if re.search('R\\.\\.s',dat[3]):\n",
    "                        Count += 1\n",
    "                        #print('%s, %s, %s ' %(dat[-1], dat[3], re.search('R\\..s',dat[3]).group(0)))\n",
    "                    elif re.search('RR\\.s',dat[3]):\n",
    "                        Count += 1\n",
    "                        #print('%s, %s, %s ' %(dat[-1], dat[3], re.search('RR.s',dat[3]).group(0)))\n",
    "\n",
    "\n",
    "        out.write('%s,%s,%s,%s\\n' %(trial, siTotal, tpk2Count, Count))"
   ]
  },
  {
   "cell_type": "code",
   "execution_count": null,
   "metadata": {
    "collapsed": true
   },
   "outputs": [],
   "source": []
  }
 ],
 "metadata": {
  "anaconda-cloud": {},
  "kernelspec": {
   "display_name": "Python [default]",
   "language": "python",
   "name": "python3"
  },
  "language_info": {
   "codemirror_mode": {
    "name": "ipython",
    "version": 3
   },
   "file_extension": ".py",
   "mimetype": "text/x-python",
   "name": "python",
   "nbconvert_exporter": "python",
   "pygments_lexer": "ipython3",
   "version": "3.4.4"
  }
 },
 "nbformat": 4,
 "nbformat_minor": 0
}
